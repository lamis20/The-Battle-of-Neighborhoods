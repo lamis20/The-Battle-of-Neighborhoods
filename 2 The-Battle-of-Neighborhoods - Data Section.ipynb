{
 "cells": [
  {
   "cell_type": "markdown",
   "metadata": {},
   "source": [
    "<h1><strong>Capstone Project: The Battle of Neighborhoods</strong></h1>"
   ]
  },
  {
   "cell_type": "markdown",
   "metadata": {},
   "source": [
    "<h2><b>City of Toronto Neighbourhoods comparative study</b></h2>\n",
    "\n",
    "----"
   ]
  },
  {
   "cell_type": "markdown",
   "metadata": {},
   "source": [
    "<p></p>"
   ]
  },
  {
   "cell_type": "markdown",
   "metadata": {},
   "source": [
    "<h2><b><u>Introduction</u><b></h2>"
   ]
  },
  {
   "cell_type": "markdown",
   "metadata": {},
   "source": [
    "<p>As COVID-19 hits everywhere in the world, I decided to take Toronto as a case study, the study will characterize Toronto neighbourhoods by features include people testing positive for COVID-19, health units, populations, income, education, housing and labour.</p>\n",
    "<p>The purpose of this project aims to create an analysis of features for the City of Toronto as a comparative analysis between neighborhoods to show the effective of COVID-19 on each neighborhood. According to the Government of Toronto report on June 5th, 2020 the number of cases are 11,835 with 883 deaths.</p>\n"
   ]
  },
  {
   "cell_type": "markdown",
   "metadata": {},
   "source": [
    "<h2><b><u>Data Section</u><b></h2>"
   ]
  },
  {
   "cell_type": "markdown",
   "metadata": {},
   "source": [
    "<p>We will be collecting data from following sources:</p>"
   ]
  },
  {
   "cell_type": "markdown",
   "metadata": {},
   "source": [
    "<ul>\n",
    "<li>City of Toronto Neighbourhood Profiles to get the populations, income, education, housing and labour.</li>\n",
    "<ul><li>Source of Data: Statistics Canada (CSV file)</li></ul>\n",
    "\n",
    "<li>City of Toronto Neighbourhoods Boundaries for city shape.</li>\n",
    "<ul><li>Source of Data: Toronto Open Data (GeoJSON file)</li></ul>\n",
    "\n",
    "<li>City of Toronto Cases of COVID-19.</li>\n",
    "<ul><li>Source of Data: Ontario Ministry of Health, integrated Public Health Information System (iPHIS) (CSV file)</li></ul>\n",
    "    \n",
    "<li>Foursquare API to get the Hospital information.</li>\n",
    "<ul><li>Source of Data: Foursquare</li></ul>\n",
    "</ul>"
   ]
  }
 ],
 "metadata": {
  "kernelspec": {
   "display_name": "Python",
   "language": "python",
   "name": "conda-env-python-py"
  },
  "language_info": {
   "codemirror_mode": {
    "name": "ipython",
    "version": 3
   },
   "file_extension": ".py",
   "mimetype": "text/x-python",
   "name": "python",
   "nbconvert_exporter": "python",
   "pygments_lexer": "ipython3",
   "version": "3.6.10"
  }
 },
 "nbformat": 4,
 "nbformat_minor": 4
}
